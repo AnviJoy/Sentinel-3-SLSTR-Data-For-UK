{
 "cells": [
  {
   "cell_type": "markdown",
   "id": "36614de9",
   "metadata": {},
   "source": [
    "# Sentinel 3: SLSTR Data For UK"
   ]
  },
  {
   "cell_type": "markdown",
   "id": "b0a88aa0",
   "metadata": {},
   "source": [
    "The Copernicus Data Space Ecosystem (https://dataspace.copernicus.eu) is an open ecosystem that provides free instant access to a wide range of data and services from the Copernicus Sentinel missions. \n",
    "\n",
    "The third sentinel mission,Sentinel-3, is a multi-instrument mission to measure sea surface topography, sea and land surface temperature, ocean colour and land colour with high end accuracy and reliability. The mission supports ocean forecasting systems, as well as environmental and climate monitoring. Sentinel-3A was launched on 16 February 2016 and Sentinel-3B joined its twin in orbit on 25 April 2018.\n",
    "\n",
    "One of the instruments on this satellite was the Sea and Land Surface Temperature Radiometer (SLSTR). From the Copernicus Data Space Ecosystem, four NetCDF files providing Level 2 Sentinel-3 land surface temperature data can be downloaded, which were measured using the SLSTR instrument. "
   ]
  },
  {
   "cell_type": "code",
   "execution_count": 1,
   "id": "d73076ab",
   "metadata": {},
   "outputs": [
    {
     "name": "stdout",
     "output_type": "stream",
     "text": [
      "Intel MKL WARNING: Support of Intel(R) Streaming SIMD Extensions 4.2 (Intel(R) SSE4.2) enabled only processors has been deprecated. Intel oneAPI Math Kernel Library 2025.0 will require Intel(R) Advanced Vector Extensions (Intel(R) AVX) instructions.\n",
      "Intel MKL WARNING: Support of Intel(R) Streaming SIMD Extensions 4.2 (Intel(R) SSE4.2) enabled only processors has been deprecated. Intel oneAPI Math Kernel Library 2025.0 will require Intel(R) Advanced Vector Extensions (Intel(R) AVX) instructions.\n"
     ]
    }
   ],
   "source": [
    "#%matplotlib inline \n",
    "# this line is required for the plots to appear in the Jupyter cells, rather than launching the matplotlib GUI\n",
    "%matplotlib notebook\n",
    "#this allows interactive view but you need to be in classic rather than CoCalc Jupyter notebook for this to work\n",
    "\n",
    "import matplotlib\n",
    "\n",
    "import numpy as np\n",
    "\n",
    "import matplotlib.pyplot as plt\n",
    "\n",
    "\n",
    "# Let printing work the same in Python 2 and 3\n",
    "from __future__ import division,print_function\n",
    "\n",
    "# notice two underscores _ either side of future\n",
    "\n",
    "import xarray as xr\n",
    "import netCDF4 as nc"
   ]
  },
  {
   "cell_type": "code",
   "execution_count": 12,
   "id": "5717e4df",
   "metadata": {},
   "outputs": [],
   "source": [
    "data = xr.open_dataset(r\"/Users/anvijoy/Desktop/Anvi/Uni Notes/Internal Placement/LST_in.nc\")\n",
    "#data_temp = xr.open_mfdataset(r\"/Users/anvijoy/Desktop/Anvi/Uni Notes/Internal Placement/LST_in.nc\", parallel=False)\n",
    "\n",
    "#data_temp = xr.open_mfdataset(r\"/Users/anvijoy/Desktop/Anvi/Uni Notes/Internal Placement/LST_*.nc\", combine='nested', compat='override')\n",
    "data_temp = xr.open_mfdataset(r\"/Users/anvijoy/Desktop/Anvi/Uni Notes/Internal Placement/LST_*.nc\", combine='nested', concat_dim='time')\n"
   ]
  },
  {
   "cell_type": "code",
   "execution_count": 13,
   "id": "ef063eac",
   "metadata": {},
   "outputs": [
    {
     "name": "stdout",
     "output_type": "stream",
     "text": [
      "Data variables:\n",
      "    LST                     (time, rows, columns) float32 14MB dask.array<chunksize=(1, 1200, 1500), meta=np.ndarray>\n",
      "    LST_orphan              (time, rows, orphan_pixels) float32 2MB dask.array<chunksize=(1, 1200, 187), meta=np.ndarray>\n",
      "    LST_uncertainty         (time, rows, columns) float32 14MB dask.array<chunksize=(1, 1200, 1500), meta=np.ndarray>\n",
      "    LST_uncertainty_orphan  (time, rows, orphan_pixels) float32 2MB dask.array<chunksize=(1, 1200, 187), meta=np.ndarray>\n",
      "    exception               (time, rows, columns) int16 7MB dask.array<chunksize=(1, 1200, 1500), meta=np.ndarray>\n",
      "    exception_orphan        (time, rows, orphan_pixels) int16 898kB dask.array<chunksize=(1, 1200, 187), meta=np.ndarray>\n"
     ]
    }
   ],
   "source": [
    "# Prints all the variables listed in the .nc file\n",
    "print(data_temp.data_vars)"
   ]
  },
  {
   "cell_type": "code",
   "execution_count": 14,
   "id": "6f8c6870",
   "metadata": {},
   "outputs": [
    {
     "name": "stdout",
     "output_type": "stream",
     "text": [
      "FrozenMappingWarningOnValuesAccess({'time': 2, 'rows': 1200, 'columns': 1500, 'orphan_pixels': 187})\n"
     ]
    }
   ],
   "source": [
    "# Prints all the dimensions listed in the .nc file\n",
    "print(data_temp.dims)"
   ]
  },
  {
   "cell_type": "code",
   "execution_count": 17,
   "id": "b9508c85",
   "metadata": {},
   "outputs": [
    {
     "name": "stdout",
     "output_type": "stream",
     "text": [
      "{'absolute_orbit_number': 48541, 'comment': ' ', 'contact': 'eosupport@copernicus.esa.int', 'creation_time': '20250613T004003Z', 'history': '  2025-06-13T00:40:03Z: PUGCoreProcessor joborder.27819127.xml', 'institution': 'PS1', 'netCDF_version': '4.2 of Jan 13 2023 10:05:23 $', 'processing_baseline': 'SL__LST.004.08.00', 'product_name': 'S3A_SL_2_LST____20250612T220906_20250612T221206_20250613T004003_0179_127_058_0900_PS1_O_NR_004.SEN3', 'references': 'S3IPF PDS 005.2 - i2r10 - Product Data Format Specification - SLSTR Level 2 Land, S3IPF PDS 002 - i1r8 - Product Data Format Specification - Product Structures, S3IPF DPM 007 - i1r14 - Detailed Processing Model - SLSTR Level 2', 'resolution': '[ 1000 1000 ]', 'source': 'IPF-SL-2 06.24', 'start_offset': 6061, 'start_time': '2025-06-12T22:09:06.091747Z', 'stop_time': '2025-06-12T22:12:05.783234Z', 'title': 'SLSTR Level 2 Product, Land Surface Temperature measurement', 'track_offset': 998}\n"
     ]
    }
   ],
   "source": [
    "# Prints all the attributes listed in the .nc file\n",
    "print(data_temp.attrs)"
   ]
  },
  {
   "cell_type": "code",
   "execution_count": 19,
   "id": "5d9fcb5a",
   "metadata": {},
   "outputs": [
    {
     "name": "stdout",
     "output_type": "stream",
     "text": [
      "<xarray.DataArray 'LST' (time: 2, rows: 1200, columns: 1500)> Size: 14MB\n",
      "dask.array<concatenate, shape=(2, 1200, 1500), dtype=float32, chunksize=(1, 1200, 1500), chunktype=numpy.ndarray>\n",
      "Dimensions without coordinates: time, rows, columns\n",
      "Attributes:\n",
      "    long_name:      Gridded Land Surface Temperature\n",
      "    standard_name:  surface_temperature\n",
      "    units:          K\n",
      "    valid_max:      32767\n",
      "    valid_min:      -32767\n"
     ]
    }
   ],
   "source": [
    "# Prints the data of the variable\n",
    "print(data_temp.LST)"
   ]
  },
  {
   "cell_type": "code",
   "execution_count": 27,
   "id": "7466a1a7",
   "metadata": {},
   "outputs": [
    {
     "name": "stdout",
     "output_type": "stream",
     "text": [
      "(1200, 1500)\n",
      "(2, 1200, 1500)\n"
     ]
    }
   ],
   "source": [
    "# Variables can be converted to numpy arrays\n",
    "data_temp_one_year = data.LST.values\n",
    "data_temp_all_months = data_temp.LST.values\n",
    "\n",
    "# Print the shape of the numpy array\n",
    "print(data_temp_one_year.shape)\n",
    "print(data_temp_all_months.shape)"
   ]
  },
  {
   "cell_type": "code",
   "execution_count": 55,
   "id": "f01cb34c",
   "metadata": {},
   "outputs": [
    {
     "name": "stdout",
     "output_type": "stream",
     "text": [
      "[[nan nan nan ... nan nan nan]\n",
      " [nan nan nan ... nan nan nan]\n",
      " [nan nan nan ... nan nan nan]\n",
      " ...\n",
      " [nan nan nan ... nan nan nan]\n",
      " [nan nan nan ... nan nan nan]\n",
      " [nan nan nan ... nan nan nan]]\n"
     ]
    }
   ],
   "source": [
    "print(data_temp_one_year)"
   ]
  },
  {
   "cell_type": "markdown",
   "id": "8995e143",
   "metadata": {},
   "source": [
    "Most of grid cells are filled with 'nan' (not a number) values"
   ]
  },
  {
   "cell_type": "code",
   "execution_count": null,
   "id": "abf4b6b1",
   "metadata": {},
   "outputs": [],
   "source": []
  }
 ],
 "metadata": {
  "kernelspec": {
   "display_name": "Python 3 (ipykernel)",
   "language": "python",
   "name": "python3"
  },
  "language_info": {
   "codemirror_mode": {
    "name": "ipython",
    "version": 3
   },
   "file_extension": ".py",
   "mimetype": "text/x-python",
   "name": "python",
   "nbconvert_exporter": "python",
   "pygments_lexer": "ipython3",
   "version": "3.10.13"
  }
 },
 "nbformat": 4,
 "nbformat_minor": 5
}
